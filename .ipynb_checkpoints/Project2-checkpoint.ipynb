{
 "cells": [
  {
   "cell_type": "code",
   "execution_count": 2,
   "metadata": {},
   "outputs": [],
   "source": [
    "import random as rand\n",
    "import statistics as stat\n",
    "# Geometric distribution\n",
    "def geoDist(p):\n",
    "    c = 1\n",
    "    while (rand.random() >= p):\n",
    "        c += 1\n",
    "    return c"
   ]
  },
  {
   "cell_type": "code",
   "execution_count": 3,
   "metadata": {},
   "outputs": [
    {
     "name": "stdout",
     "output_type": "stream",
     "text": [
      "1.95\n"
     ]
    }
   ],
   "source": [
    "print(stat.mean([geoDist(0.5) for _ in range(100)]))"
   ]
  },
  {
   "cell_type": "code",
   "execution_count": 46,
   "metadata": {},
   "outputs": [],
   "source": [
    "import random as rand\n",
    "from collections import deque\n",
    "import math\n",
    "\n",
    "# Jobs are handled by servers\n",
    "class Job:\n",
    "    \n",
    "    # Constructor\n",
    "    def __init__(self,a,s):\n",
    "        # Arrival time\n",
    "        self.arrTime = a \n",
    "        \n",
    "        # Job size\n",
    "        self.size = s\n",
    "        \n",
    "        # Departure time\n",
    "        self.departed = 0\n",
    "        \n",
    "        # The number of other jobs in front of it when it arrives at the server\n",
    "        self.numinfront = 0 \n",
    "    \n",
    "    # Allows printing    \n",
    "    def __str__(self):\n",
    "        return str(self.arrTime) +\", \"+ str(self.size)\n",
    "\n",
    "# The job handler. Multiple can exist within each QueueingSystem\n",
    "class Server:\n",
    "    \n",
    "    # Constructor\n",
    "    def __init__(self, n):\n",
    "        # Identifier to keep track of it during debug\n",
    "        self.name = n\n",
    "        \n",
    "        # Whether or not it is doing a job\n",
    "        self.idle = True\n",
    "        \n",
    "        # The job it is currently working on\n",
    "        self.curJob = None\n",
    "        \n",
    "        # The time at which its current job departs\n",
    "        self.departure = 1\n",
    "        \n",
    "        # Its list of jobs to do, does not include the one it is working on\n",
    "        self.queue = deque()\n",
    "    \n",
    "    # Called when one of the server is done with a job, first checks if this server\n",
    "    # is scheduled to finish at the current time, and takes care of updating the\n",
    "    # queue and associated fields. If the queue is empty, the server becomes idle.\n",
    "    def update(self, curTime):\n",
    "        if self.curJob != None and curTime == self.departure:\n",
    "            finished = self.curJob\n",
    "            self.curJob.departed = curTime\n",
    "            if len(self.queue) == 0:\n",
    "                self.curJob = None\n",
    "                self.idle = True\n",
    "            else:\n",
    "                self.curJob = self.queue.popleft()\n",
    "                self.departure = self.curJob.size + curTime\n",
    "                self.idle = False\n",
    "            return finished, self.idle\n",
    "        return None\n",
    "\n",
    "    # Called by the dispatcher. Adds a job to self.queue which is a FCFS structure.\n",
    "    # If the server is idle, the server immediately begins working on the assigned job\n",
    "    # and does not add it to self.queue.\n",
    "    def addJob(self, j, curTime):\n",
    "        j.numinfront = len(self.queue) + int(not self.idle)\n",
    "        if (self.idle):\n",
    "            self.curJob = j\n",
    "            self.departure = j.size+curTime\n",
    "            self.idle = False\n",
    "        else:\n",
    "            self.queue.append(j)\n",
    "\n",
    "    # Printing capabilities\n",
    "    def __str__(self):\n",
    "        return self.name\n",
    "\n",
    "# Manages the entire operation\n",
    "class QueueingSystem:\n",
    "    \n",
    "    # Constructor\n",
    "    def __init__(self, nservers, p, q, njobs, distributor = 'JIQ', v=False):\n",
    "        \n",
    "        # The list of jobs to be completed during self.run()\n",
    "        self.jobslist = deque()\n",
    "        t = 0 # time of the first job\n",
    "        for _ in range(njobs):\n",
    "            self.jobslist.append(Job(t,geoDist(q)))\n",
    "            t+=geoDist(p)\n",
    "            \n",
    "        # The list of servers in the system\n",
    "        self.serverlist = [Server(\"#\"+str(i)) for i in range(nservers)]\n",
    "        \n",
    "        # The list of servers in the system that are not idle\n",
    "        self.activeservers = []\n",
    "\n",
    "        # The list of idle servers in the system\n",
    "        self.idleservers = [s for s in self.serverlist]\n",
    "                \n",
    "        # Where jobs go after a server completes them\n",
    "        self.completedjobs = []\n",
    "        \n",
    "        # Enables print statements\n",
    "        self.verbose = v\n",
    "        \n",
    "        # Distributor \n",
    "        self.distributor = self.distJIQ\n",
    "        \n",
    "        self.bigservers = self.serverlist[0:int(nservers/2)]\n",
    "        self.smallservers = self.serverlist[int(nservers/2):]\n",
    "        self.meanJobSize = 0\n",
    "        if distributor == \"BS\" and nservers>1:\n",
    "            self.distributor = self.distBigSmall\n",
    "            temp = 0\n",
    "            for i in range(min(njobs,100)):\n",
    "                temp += self.jobslist[i].size\n",
    "            self.meanJobSize = temp/100\n",
    "            \n",
    "            \n",
    "        # Debug printing    \n",
    "        if(self.verbose):\n",
    "            for j in self.jobslist:\n",
    "                print(j)\n",
    "            for s in self.serverlist:\n",
    "                print(s)\n",
    "\n",
    "    # The simulation method. Jumps through time by finding the next time where a job\n",
    "    # arrives or is finished by one of the servers. Note the <= signs mean both if\n",
    "    # statements run when a job arrives and a job departs at the same time.\n",
    "    def run(self):\n",
    "        systime = 0\n",
    "        \n",
    "        # The main loop\n",
    "        while(len(self.jobslist)!=0):\n",
    "            \n",
    "            # Debug printing \n",
    "            if(self.verbose):\n",
    "                self.printserverinfo()\n",
    "            \n",
    "            # Calculating the next departure of the servers and the next arrival in the\n",
    "            # job list. If all of the servers are idle, nextDeparture is 2 billion to \n",
    "            # prevent it from being less than nextArrival. In very large simulations, a\n",
    "            # better work around should be implemented.\n",
    "            nextArrival = self.jobslist[0].arrTime\n",
    "            nextDeparture = min([2147483647]+[s.departure for s in self.activeservers])\n",
    "            \n",
    "            # Debug printing \n",
    "            if(self.verbose):\n",
    "                print(\"Next Arrival: %d, Next Departure: %d\" %(nextArrival,nextDeparture))\n",
    "            \n",
    "            \n",
    "            if(nextDeparture <= nextArrival):\n",
    "                systime = nextDeparture\n",
    "                for s in self.activeservers:\n",
    "                    x = s.update(systime)\n",
    "                    if x != None: # if the server actually departed when we called .update\n",
    "                        self.completedjobs += [x[0]]\n",
    "                        if x[1] == True: # if the server is now idle\n",
    "                            self.activeservers.remove(s)\n",
    "                            self.idleservers.append(s)\n",
    "    \n",
    "                        # Debug printing \n",
    "                        if(self.verbose):\n",
    "                            print(\"%s finished a job at %d! WOW!\"%(s,systime))\n",
    "                        \n",
    "            if(nextArrival <= nextDeparture):\n",
    "                systime = nextArrival\n",
    "                self.distributor(systime) #distributes the job to one of the servers\n",
    "        \n",
    "        return self.completedjobs\n",
    "\n",
    "    # The default dispatching policy, assigns the job to a randomly chosen idle server.\n",
    "    # If no server is idle, then a random active server is chosen instead.\n",
    "    def distJIQ(self,systime):\n",
    "        if len(self.idleservers) != 0 : # >=1 server is idle\n",
    "            \n",
    "            # Randomly selects a server in idleservers\n",
    "            i = rand.randint(0,len(self.idleservers)-1)\n",
    "            chosen = self.idleservers[i]\n",
    "            \n",
    "            # Manages idle/active server lists\n",
    "            self.idleservers.remove(chosen)\n",
    "            self.activeservers.append(chosen)\n",
    "\n",
    "            j = self.jobslist.popleft()\n",
    "            chosen.addJob(j,systime)\n",
    "            \n",
    "\n",
    "        else: # No server is idle\n",
    "            \n",
    "            # Randomly selects a server in activeservers\n",
    "            i = rand.randint(0,len(self.activeservers)-1)\n",
    "            chosen = self.activeservers[i]\n",
    "            \n",
    "            j = self.jobslist.popleft()\n",
    "            chosen.addJob(j,systime)\n",
    "            \n",
    "            # Debug printing \n",
    "            if(self.verbose):\n",
    "                print(chosen.name + \" given a job!\")\n",
    "                \n",
    "    def distBigSmall(self, systime):\n",
    "        j = self.jobslist.popleft()\n",
    "        if j.size >= self.meanJobSize:\n",
    "            i = rand.randint(0,len(self.bigservers)-1)\n",
    "            chosen = self.bigservers[i]\n",
    "            chosen.addJob(j,systime)\n",
    "        else :\n",
    "            i = rand.randint(0,len(self.smallservers)-1)\n",
    "            chosen = self.smallservers[i]\n",
    "            chosen.addJob(j,systime)\n",
    "\n",
    "    # Useful for debugging server idle management\n",
    "    def printserverinfo(self):\n",
    "        print(\"Active Servers: \", end=\"\")\n",
    "        for s in self.activeservers:\n",
    "            print(s, end=\" \")\n",
    "        print(\"|| Idle Servers: \", end=\"\")\n",
    "        for s in self.idleservers:\n",
    "            print(s, end=\" \")\n",
    "        print(\"\")\n",
    "\n",
    "            \n",
    "        "
   ]
  },
  {
   "cell_type": "code",
   "execution_count": 47,
   "metadata": {},
   "outputs": [],
   "source": [
    "Q = QueueingSystem(2,.9,.1,50, distributor='BS',v=False)"
   ]
  },
  {
   "cell_type": "code",
   "execution_count": 48,
   "metadata": {},
   "outputs": [],
   "source": [
    "data = Q.run()"
   ]
  },
  {
   "cell_type": "code",
   "execution_count": 7,
   "metadata": {},
   "outputs": [
    {
     "data": {
      "text/plain": [
       "'\\njobs = 10000\\nk = 2000\\nETs = []\\nENs = []\\nps = []\\nfor i in range(1,50):\\n    p = i*0.01\\n    Q = QueueingSystem(1,p,0.5,jobs)\\n    jobsdata = Q.run()\\n    Tdata = [j.departed-j.arrTime for j in jobsdata[k:]]\\n    Ndata = [j.numinfront for j in jobsdata[k:]]\\n    ps += [p]\\n    ETs += [stat.mean(Tdata)]\\n    ENs += [stat.mean(Ndata)]\\n'"
      ]
     },
     "execution_count": 7,
     "metadata": {},
     "output_type": "execute_result"
    }
   ],
   "source": [
    "'''\n",
    "jobs = 10000\n",
    "k = 2000\n",
    "ETs = []\n",
    "ENs = []\n",
    "ps = []\n",
    "for i in range(1,50):\n",
    "    p = i*0.01\n",
    "    Q = QueueingSystem(1,p,0.5,jobs)\n",
    "    jobsdata = Q.run()\n",
    "    Tdata = [j.departed-j.arrTime for j in jobsdata[k:]]\n",
    "    Ndata = [j.numinfront for j in jobsdata[k:]]\n",
    "    ps += [p]\n",
    "    ETs += [stat.mean(Tdata)]\n",
    "    ENs += [stat.mean(Ndata)]\n",
    "'''"
   ]
  },
  {
   "cell_type": "code",
   "execution_count": 54,
   "metadata": {},
   "outputs": [],
   "source": [
    "jobs = 10000\n",
    "k = 2500\n",
    "serverLim = 8\n",
    "numTrials = 20\n",
    "ETs = []\n",
    "numServers = []\n",
    "Variances = []\n",
    "p = 0.5\n",
    "for i in range(1,serverLim + 1):\n",
    "    serverET = []\n",
    "    numServers += [i]\n",
    "    for k in range(0,numTrials):\n",
    "        Q = QueueingSystem(i,p,0.09,jobs)\n",
    "        jobsdata = Q.run()\n",
    "        Tdata = [j.departed-j.arrTime for j in jobsdata[k:]]\n",
    "        serverET += [stat.mean(Tdata)]\n",
    "    ETs += [stat.mean(serverET)]\n",
    "    Variances += [stat.variance(serverET)]  "
   ]
  },
  {
   "cell_type": "code",
   "execution_count": 56,
   "metadata": {},
   "outputs": [
    {
     "data": {
      "image/png": "[encoded data removed]",
      "text/plain": [
       "<Figure size 432x288 with 1 Axes>"
      ]
     },
     "metadata": {
      "needs_background": "light"
     },
     "output_type": "display_data"
    }
   ],
   "source": [
    "from matplotlib import pyplot as plt\n",
    "\n",
    "'''\n",
    "plt.scatter(ps, ETs)\n",
    "plt.xlabel(\"p\")\n",
    "plt.ylabel(\"E[T]\")\n",
    "plt.show()\n",
    "'''\n",
    "plt.scatter(numServers,ETs)\n",
    "plt.xlabel(\"Number of Servers\")\n",
    "plt.ylabel(\"E[T]\")\n",
    "plt.show()\n"
   ]
  },
  {
   "cell_type": "code",
   "execution_count": 57,
   "metadata": {},
   "outputs": [
    {
     "data": {
      "image/png": "[encoded data removed]",
      "text/plain": [
       "<Figure size 432x288 with 1 Axes>"
      ]
     },
     "metadata": {
      "needs_background": "light"
     },
     "output_type": "display_data"
    }
   ],
   "source": [
    "'''\n",
    "plt.scatter(ps, ENs)\n",
    "plt.xlabel(\"p\")\n",
    "plt.ylabel(\"E[N]\")\n",
    "plt.show()\n",
    "'''\n",
    "plt.scatter(numServers,Variances)\n",
    "plt.xlabel(\"Number of Servers\")\n",
    "plt.ylabel(\"Variance\")\n",
    "plt.show()"
   ]
  },
  {
   "cell_type": "markdown",
   "metadata": {},
   "source": [
    "Citations: None"
   ]
  },
  {
   "cell_type": "code",
   "execution_count": null,
   "metadata": {},
   "outputs": [],
   "source": []
  }
 ],
 "metadata": {
  "kernelspec": {
   "display_name": "Python 3",
   "language": "python",
   "name": "python3"
  },
  "language_info": {
   "codemirror_mode": {
    "name": "ipython",
    "version": 3
   },
   "file_extension": ".py",
   "mimetype": "text/x-python",
   "name": "python",
   "nbconvert_exporter": "python",
   "pygments_lexer": "ipython3",
   "version": "3.8.3"
  }
 },
 "nbformat": 4,
 "nbformat_minor": 4
}
